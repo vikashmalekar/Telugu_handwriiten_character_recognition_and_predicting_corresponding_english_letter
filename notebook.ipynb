{
 "cells": [
  {
   "cell_type": "markdown",
   "metadata": {},
   "source": [
    "### Importing necessary Libraries"
   ]
  },
  {
   "cell_type": "code",
   "execution_count": 29,
   "metadata": {},
   "outputs": [],
   "source": [
    "import pandas as pd\n",
    "import numpy as np\n",
    "import matplotlib.pyplot as plt\n",
    "import cv2\n",
    "import seaborn as sns"
   ]
  },
  {
   "cell_type": "code",
   "execution_count": 2,
   "metadata": {},
   "outputs": [
    {
     "name": "stdout",
     "output_type": "stream",
     "text": [
      "C:\\Users\\Usha Rani\\telugudatasets\n"
     ]
    }
   ],
   "source": [
    "cd telugudatasets"
   ]
  },
  {
   "cell_type": "code",
   "execution_count": 3,
   "metadata": {},
   "outputs": [],
   "source": [
    "df = pd.read_csv(\"telugu4lett.csv\")"
   ]
  },
  {
   "cell_type": "code",
   "execution_count": 4,
   "metadata": {},
   "outputs": [
    {
     "data": {
      "text/html": [
       "<div>\n",
       "<style scoped>\n",
       "    .dataframe tbody tr th:only-of-type {\n",
       "        vertical-align: middle;\n",
       "    }\n",
       "\n",
       "    .dataframe tbody tr th {\n",
       "        vertical-align: top;\n",
       "    }\n",
       "\n",
       "    .dataframe thead th {\n",
       "        text-align: right;\n",
       "    }\n",
       "</style>\n",
       "<table border=\"1\" class=\"dataframe\">\n",
       "  <thead>\n",
       "    <tr style=\"text-align: right;\">\n",
       "      <th></th>\n",
       "      <th>pix-1</th>\n",
       "      <th>pix-2</th>\n",
       "      <th>pix-3</th>\n",
       "      <th>pix-4</th>\n",
       "      <th>pix-5</th>\n",
       "      <th>pix-6</th>\n",
       "      <th>pix-7</th>\n",
       "      <th>pix-8</th>\n",
       "      <th>pix-9</th>\n",
       "      <th>pix-10</th>\n",
       "      <th>...</th>\n",
       "      <th>pix-9992</th>\n",
       "      <th>pix-9993</th>\n",
       "      <th>pix-9994</th>\n",
       "      <th>pix-9995</th>\n",
       "      <th>pix-9996</th>\n",
       "      <th>pix-9997</th>\n",
       "      <th>pix-9998</th>\n",
       "      <th>pix-9999</th>\n",
       "      <th>pix-10000</th>\n",
       "      <th>class</th>\n",
       "    </tr>\n",
       "  </thead>\n",
       "  <tbody>\n",
       "    <tr>\n",
       "      <th>468</th>\n",
       "      <td>1.0</td>\n",
       "      <td>1.0</td>\n",
       "      <td>1.0</td>\n",
       "      <td>1.0</td>\n",
       "      <td>1.0</td>\n",
       "      <td>1.0</td>\n",
       "      <td>1.0</td>\n",
       "      <td>1.0</td>\n",
       "      <td>1.0</td>\n",
       "      <td>1.0</td>\n",
       "      <td>...</td>\n",
       "      <td>1.0</td>\n",
       "      <td>1.0</td>\n",
       "      <td>1.0</td>\n",
       "      <td>1.0</td>\n",
       "      <td>1.0</td>\n",
       "      <td>1.0</td>\n",
       "      <td>1.0</td>\n",
       "      <td>1.0</td>\n",
       "      <td>1.0</td>\n",
       "      <td>1.0</td>\n",
       "    </tr>\n",
       "    <tr>\n",
       "      <th>93</th>\n",
       "      <td>1.0</td>\n",
       "      <td>1.0</td>\n",
       "      <td>1.0</td>\n",
       "      <td>1.0</td>\n",
       "      <td>1.0</td>\n",
       "      <td>1.0</td>\n",
       "      <td>1.0</td>\n",
       "      <td>1.0</td>\n",
       "      <td>1.0</td>\n",
       "      <td>1.0</td>\n",
       "      <td>...</td>\n",
       "      <td>1.0</td>\n",
       "      <td>1.0</td>\n",
       "      <td>1.0</td>\n",
       "      <td>1.0</td>\n",
       "      <td>1.0</td>\n",
       "      <td>1.0</td>\n",
       "      <td>1.0</td>\n",
       "      <td>1.0</td>\n",
       "      <td>1.0</td>\n",
       "      <td>0.0</td>\n",
       "    </tr>\n",
       "    <tr>\n",
       "      <th>202</th>\n",
       "      <td>1.0</td>\n",
       "      <td>1.0</td>\n",
       "      <td>1.0</td>\n",
       "      <td>1.0</td>\n",
       "      <td>1.0</td>\n",
       "      <td>1.0</td>\n",
       "      <td>1.0</td>\n",
       "      <td>1.0</td>\n",
       "      <td>1.0</td>\n",
       "      <td>1.0</td>\n",
       "      <td>...</td>\n",
       "      <td>1.0</td>\n",
       "      <td>1.0</td>\n",
       "      <td>1.0</td>\n",
       "      <td>1.0</td>\n",
       "      <td>1.0</td>\n",
       "      <td>1.0</td>\n",
       "      <td>1.0</td>\n",
       "      <td>1.0</td>\n",
       "      <td>1.0</td>\n",
       "      <td>0.0</td>\n",
       "    </tr>\n",
       "    <tr>\n",
       "      <th>203</th>\n",
       "      <td>1.0</td>\n",
       "      <td>1.0</td>\n",
       "      <td>1.0</td>\n",
       "      <td>1.0</td>\n",
       "      <td>1.0</td>\n",
       "      <td>1.0</td>\n",
       "      <td>1.0</td>\n",
       "      <td>1.0</td>\n",
       "      <td>1.0</td>\n",
       "      <td>1.0</td>\n",
       "      <td>...</td>\n",
       "      <td>1.0</td>\n",
       "      <td>1.0</td>\n",
       "      <td>1.0</td>\n",
       "      <td>1.0</td>\n",
       "      <td>1.0</td>\n",
       "      <td>1.0</td>\n",
       "      <td>1.0</td>\n",
       "      <td>1.0</td>\n",
       "      <td>1.0</td>\n",
       "      <td>0.0</td>\n",
       "    </tr>\n",
       "    <tr>\n",
       "      <th>22</th>\n",
       "      <td>1.0</td>\n",
       "      <td>1.0</td>\n",
       "      <td>1.0</td>\n",
       "      <td>1.0</td>\n",
       "      <td>1.0</td>\n",
       "      <td>1.0</td>\n",
       "      <td>1.0</td>\n",
       "      <td>1.0</td>\n",
       "      <td>1.0</td>\n",
       "      <td>1.0</td>\n",
       "      <td>...</td>\n",
       "      <td>1.0</td>\n",
       "      <td>1.0</td>\n",
       "      <td>1.0</td>\n",
       "      <td>1.0</td>\n",
       "      <td>1.0</td>\n",
       "      <td>1.0</td>\n",
       "      <td>1.0</td>\n",
       "      <td>1.0</td>\n",
       "      <td>1.0</td>\n",
       "      <td>0.0</td>\n",
       "    </tr>\n",
       "  </tbody>\n",
       "</table>\n",
       "<p>5 rows × 10001 columns</p>\n",
       "</div>"
      ],
      "text/plain": [
       "     pix-1  pix-2  pix-3  pix-4  pix-5  pix-6  pix-7  pix-8  pix-9  pix-10  \\\n",
       "468    1.0    1.0    1.0    1.0    1.0    1.0    1.0    1.0    1.0     1.0   \n",
       "93     1.0    1.0    1.0    1.0    1.0    1.0    1.0    1.0    1.0     1.0   \n",
       "202    1.0    1.0    1.0    1.0    1.0    1.0    1.0    1.0    1.0     1.0   \n",
       "203    1.0    1.0    1.0    1.0    1.0    1.0    1.0    1.0    1.0     1.0   \n",
       "22     1.0    1.0    1.0    1.0    1.0    1.0    1.0    1.0    1.0     1.0   \n",
       "\n",
       "     ...  pix-9992  pix-9993  pix-9994  pix-9995  pix-9996  pix-9997  \\\n",
       "468  ...       1.0       1.0       1.0       1.0       1.0       1.0   \n",
       "93   ...       1.0       1.0       1.0       1.0       1.0       1.0   \n",
       "202  ...       1.0       1.0       1.0       1.0       1.0       1.0   \n",
       "203  ...       1.0       1.0       1.0       1.0       1.0       1.0   \n",
       "22   ...       1.0       1.0       1.0       1.0       1.0       1.0   \n",
       "\n",
       "     pix-9998  pix-9999  pix-10000  class  \n",
       "468       1.0       1.0        1.0    1.0  \n",
       "93        1.0       1.0        1.0    0.0  \n",
       "202       1.0       1.0        1.0    0.0  \n",
       "203       1.0       1.0        1.0    0.0  \n",
       "22        1.0       1.0        1.0    0.0  \n",
       "\n",
       "[5 rows x 10001 columns]"
      ]
     },
     "execution_count": 4,
     "metadata": {},
     "output_type": "execute_result"
    }
   ],
   "source": [
    "df.sample(5)"
   ]
  },
  {
   "cell_type": "code",
   "execution_count": 5,
   "metadata": {},
   "outputs": [
    {
     "data": {
      "text/html": [
       "<div>\n",
       "<style scoped>\n",
       "    .dataframe tbody tr th:only-of-type {\n",
       "        vertical-align: middle;\n",
       "    }\n",
       "\n",
       "    .dataframe tbody tr th {\n",
       "        vertical-align: top;\n",
       "    }\n",
       "\n",
       "    .dataframe thead th {\n",
       "        text-align: right;\n",
       "    }\n",
       "</style>\n",
       "<table border=\"1\" class=\"dataframe\">\n",
       "  <thead>\n",
       "    <tr style=\"text-align: right;\">\n",
       "      <th></th>\n",
       "      <th>pix-1</th>\n",
       "      <th>pix-2</th>\n",
       "      <th>pix-3</th>\n",
       "      <th>pix-4</th>\n",
       "      <th>pix-5</th>\n",
       "      <th>pix-6</th>\n",
       "      <th>pix-7</th>\n",
       "      <th>pix-8</th>\n",
       "      <th>pix-9</th>\n",
       "      <th>pix-10</th>\n",
       "      <th>...</th>\n",
       "      <th>pix-9992</th>\n",
       "      <th>pix-9993</th>\n",
       "      <th>pix-9994</th>\n",
       "      <th>pix-9995</th>\n",
       "      <th>pix-9996</th>\n",
       "      <th>pix-9997</th>\n",
       "      <th>pix-9998</th>\n",
       "      <th>pix-9999</th>\n",
       "      <th>pix-10000</th>\n",
       "      <th>class</th>\n",
       "    </tr>\n",
       "  </thead>\n",
       "  <tbody>\n",
       "    <tr>\n",
       "      <th>0</th>\n",
       "      <td>1.0</td>\n",
       "      <td>1.0</td>\n",
       "      <td>1.0</td>\n",
       "      <td>1.0</td>\n",
       "      <td>1.0</td>\n",
       "      <td>1.0</td>\n",
       "      <td>1.0</td>\n",
       "      <td>1.0</td>\n",
       "      <td>1.0</td>\n",
       "      <td>1.0</td>\n",
       "      <td>...</td>\n",
       "      <td>1.0</td>\n",
       "      <td>1.0</td>\n",
       "      <td>1.0</td>\n",
       "      <td>1.0</td>\n",
       "      <td>1.0</td>\n",
       "      <td>1.0</td>\n",
       "      <td>1.0</td>\n",
       "      <td>1.0</td>\n",
       "      <td>1.0</td>\n",
       "      <td>0.0</td>\n",
       "    </tr>\n",
       "    <tr>\n",
       "      <th>1</th>\n",
       "      <td>1.0</td>\n",
       "      <td>1.0</td>\n",
       "      <td>1.0</td>\n",
       "      <td>1.0</td>\n",
       "      <td>1.0</td>\n",
       "      <td>1.0</td>\n",
       "      <td>1.0</td>\n",
       "      <td>1.0</td>\n",
       "      <td>1.0</td>\n",
       "      <td>1.0</td>\n",
       "      <td>...</td>\n",
       "      <td>1.0</td>\n",
       "      <td>1.0</td>\n",
       "      <td>1.0</td>\n",
       "      <td>1.0</td>\n",
       "      <td>1.0</td>\n",
       "      <td>1.0</td>\n",
       "      <td>1.0</td>\n",
       "      <td>1.0</td>\n",
       "      <td>1.0</td>\n",
       "      <td>0.0</td>\n",
       "    </tr>\n",
       "    <tr>\n",
       "      <th>2</th>\n",
       "      <td>1.0</td>\n",
       "      <td>1.0</td>\n",
       "      <td>1.0</td>\n",
       "      <td>1.0</td>\n",
       "      <td>1.0</td>\n",
       "      <td>1.0</td>\n",
       "      <td>1.0</td>\n",
       "      <td>1.0</td>\n",
       "      <td>1.0</td>\n",
       "      <td>1.0</td>\n",
       "      <td>...</td>\n",
       "      <td>1.0</td>\n",
       "      <td>1.0</td>\n",
       "      <td>1.0</td>\n",
       "      <td>1.0</td>\n",
       "      <td>1.0</td>\n",
       "      <td>1.0</td>\n",
       "      <td>1.0</td>\n",
       "      <td>1.0</td>\n",
       "      <td>1.0</td>\n",
       "      <td>0.0</td>\n",
       "    </tr>\n",
       "    <tr>\n",
       "      <th>3</th>\n",
       "      <td>1.0</td>\n",
       "      <td>1.0</td>\n",
       "      <td>1.0</td>\n",
       "      <td>1.0</td>\n",
       "      <td>1.0</td>\n",
       "      <td>1.0</td>\n",
       "      <td>1.0</td>\n",
       "      <td>1.0</td>\n",
       "      <td>1.0</td>\n",
       "      <td>1.0</td>\n",
       "      <td>...</td>\n",
       "      <td>1.0</td>\n",
       "      <td>1.0</td>\n",
       "      <td>1.0</td>\n",
       "      <td>1.0</td>\n",
       "      <td>1.0</td>\n",
       "      <td>1.0</td>\n",
       "      <td>1.0</td>\n",
       "      <td>1.0</td>\n",
       "      <td>1.0</td>\n",
       "      <td>0.0</td>\n",
       "    </tr>\n",
       "    <tr>\n",
       "      <th>4</th>\n",
       "      <td>1.0</td>\n",
       "      <td>1.0</td>\n",
       "      <td>1.0</td>\n",
       "      <td>1.0</td>\n",
       "      <td>1.0</td>\n",
       "      <td>1.0</td>\n",
       "      <td>1.0</td>\n",
       "      <td>1.0</td>\n",
       "      <td>1.0</td>\n",
       "      <td>1.0</td>\n",
       "      <td>...</td>\n",
       "      <td>1.0</td>\n",
       "      <td>1.0</td>\n",
       "      <td>1.0</td>\n",
       "      <td>1.0</td>\n",
       "      <td>1.0</td>\n",
       "      <td>1.0</td>\n",
       "      <td>1.0</td>\n",
       "      <td>1.0</td>\n",
       "      <td>1.0</td>\n",
       "      <td>0.0</td>\n",
       "    </tr>\n",
       "  </tbody>\n",
       "</table>\n",
       "<p>5 rows × 10001 columns</p>\n",
       "</div>"
      ],
      "text/plain": [
       "   pix-1  pix-2  pix-3  pix-4  pix-5  pix-6  pix-7  pix-8  pix-9  pix-10  ...  \\\n",
       "0    1.0    1.0    1.0    1.0    1.0    1.0    1.0    1.0    1.0     1.0  ...   \n",
       "1    1.0    1.0    1.0    1.0    1.0    1.0    1.0    1.0    1.0     1.0  ...   \n",
       "2    1.0    1.0    1.0    1.0    1.0    1.0    1.0    1.0    1.0     1.0  ...   \n",
       "3    1.0    1.0    1.0    1.0    1.0    1.0    1.0    1.0    1.0     1.0  ...   \n",
       "4    1.0    1.0    1.0    1.0    1.0    1.0    1.0    1.0    1.0     1.0  ...   \n",
       "\n",
       "   pix-9992  pix-9993  pix-9994  pix-9995  pix-9996  pix-9997  pix-9998  \\\n",
       "0       1.0       1.0       1.0       1.0       1.0       1.0       1.0   \n",
       "1       1.0       1.0       1.0       1.0       1.0       1.0       1.0   \n",
       "2       1.0       1.0       1.0       1.0       1.0       1.0       1.0   \n",
       "3       1.0       1.0       1.0       1.0       1.0       1.0       1.0   \n",
       "4       1.0       1.0       1.0       1.0       1.0       1.0       1.0   \n",
       "\n",
       "   pix-9999  pix-10000  class  \n",
       "0       1.0        1.0    0.0  \n",
       "1       1.0        1.0    0.0  \n",
       "2       1.0        1.0    0.0  \n",
       "3       1.0        1.0    0.0  \n",
       "4       1.0        1.0    0.0  \n",
       "\n",
       "[5 rows x 10001 columns]"
      ]
     },
     "execution_count": 5,
     "metadata": {},
     "output_type": "execute_result"
    }
   ],
   "source": [
    "df.head()"
   ]
  },
  {
   "cell_type": "code",
   "execution_count": 6,
   "metadata": {},
   "outputs": [
    {
     "data": {
      "text/html": [
       "<div>\n",
       "<style scoped>\n",
       "    .dataframe tbody tr th:only-of-type {\n",
       "        vertical-align: middle;\n",
       "    }\n",
       "\n",
       "    .dataframe tbody tr th {\n",
       "        vertical-align: top;\n",
       "    }\n",
       "\n",
       "    .dataframe thead th {\n",
       "        text-align: right;\n",
       "    }\n",
       "</style>\n",
       "<table border=\"1\" class=\"dataframe\">\n",
       "  <thead>\n",
       "    <tr style=\"text-align: right;\">\n",
       "      <th></th>\n",
       "      <th>pix-1</th>\n",
       "      <th>pix-2</th>\n",
       "      <th>pix-3</th>\n",
       "      <th>pix-4</th>\n",
       "      <th>pix-5</th>\n",
       "      <th>pix-6</th>\n",
       "      <th>pix-7</th>\n",
       "      <th>pix-8</th>\n",
       "      <th>pix-9</th>\n",
       "      <th>pix-10</th>\n",
       "      <th>...</th>\n",
       "      <th>pix-9992</th>\n",
       "      <th>pix-9993</th>\n",
       "      <th>pix-9994</th>\n",
       "      <th>pix-9995</th>\n",
       "      <th>pix-9996</th>\n",
       "      <th>pix-9997</th>\n",
       "      <th>pix-9998</th>\n",
       "      <th>pix-9999</th>\n",
       "      <th>pix-10000</th>\n",
       "      <th>class</th>\n",
       "    </tr>\n",
       "  </thead>\n",
       "  <tbody>\n",
       "    <tr>\n",
       "      <th>1146</th>\n",
       "      <td>1.0</td>\n",
       "      <td>1.0</td>\n",
       "      <td>1.0</td>\n",
       "      <td>1.0</td>\n",
       "      <td>1.0</td>\n",
       "      <td>1.0</td>\n",
       "      <td>1.0</td>\n",
       "      <td>1.0</td>\n",
       "      <td>1.0</td>\n",
       "      <td>1.0</td>\n",
       "      <td>...</td>\n",
       "      <td>1.0</td>\n",
       "      <td>1.0</td>\n",
       "      <td>1.0</td>\n",
       "      <td>1.0</td>\n",
       "      <td>1.0</td>\n",
       "      <td>1.0</td>\n",
       "      <td>1.0</td>\n",
       "      <td>1.0</td>\n",
       "      <td>1.0</td>\n",
       "      <td>2.0</td>\n",
       "    </tr>\n",
       "    <tr>\n",
       "      <th>1147</th>\n",
       "      <td>1.0</td>\n",
       "      <td>1.0</td>\n",
       "      <td>1.0</td>\n",
       "      <td>1.0</td>\n",
       "      <td>1.0</td>\n",
       "      <td>1.0</td>\n",
       "      <td>1.0</td>\n",
       "      <td>1.0</td>\n",
       "      <td>1.0</td>\n",
       "      <td>1.0</td>\n",
       "      <td>...</td>\n",
       "      <td>1.0</td>\n",
       "      <td>1.0</td>\n",
       "      <td>1.0</td>\n",
       "      <td>1.0</td>\n",
       "      <td>1.0</td>\n",
       "      <td>1.0</td>\n",
       "      <td>1.0</td>\n",
       "      <td>1.0</td>\n",
       "      <td>1.0</td>\n",
       "      <td>2.0</td>\n",
       "    </tr>\n",
       "    <tr>\n",
       "      <th>1148</th>\n",
       "      <td>1.0</td>\n",
       "      <td>1.0</td>\n",
       "      <td>1.0</td>\n",
       "      <td>1.0</td>\n",
       "      <td>1.0</td>\n",
       "      <td>1.0</td>\n",
       "      <td>1.0</td>\n",
       "      <td>1.0</td>\n",
       "      <td>1.0</td>\n",
       "      <td>1.0</td>\n",
       "      <td>...</td>\n",
       "      <td>1.0</td>\n",
       "      <td>1.0</td>\n",
       "      <td>1.0</td>\n",
       "      <td>1.0</td>\n",
       "      <td>1.0</td>\n",
       "      <td>1.0</td>\n",
       "      <td>1.0</td>\n",
       "      <td>1.0</td>\n",
       "      <td>1.0</td>\n",
       "      <td>2.0</td>\n",
       "    </tr>\n",
       "    <tr>\n",
       "      <th>1149</th>\n",
       "      <td>1.0</td>\n",
       "      <td>1.0</td>\n",
       "      <td>1.0</td>\n",
       "      <td>1.0</td>\n",
       "      <td>1.0</td>\n",
       "      <td>1.0</td>\n",
       "      <td>1.0</td>\n",
       "      <td>1.0</td>\n",
       "      <td>1.0</td>\n",
       "      <td>1.0</td>\n",
       "      <td>...</td>\n",
       "      <td>1.0</td>\n",
       "      <td>1.0</td>\n",
       "      <td>1.0</td>\n",
       "      <td>1.0</td>\n",
       "      <td>1.0</td>\n",
       "      <td>1.0</td>\n",
       "      <td>1.0</td>\n",
       "      <td>1.0</td>\n",
       "      <td>1.0</td>\n",
       "      <td>2.0</td>\n",
       "    </tr>\n",
       "    <tr>\n",
       "      <th>1150</th>\n",
       "      <td>1.0</td>\n",
       "      <td>1.0</td>\n",
       "      <td>1.0</td>\n",
       "      <td>1.0</td>\n",
       "      <td>1.0</td>\n",
       "      <td>1.0</td>\n",
       "      <td>1.0</td>\n",
       "      <td>1.0</td>\n",
       "      <td>1.0</td>\n",
       "      <td>1.0</td>\n",
       "      <td>...</td>\n",
       "      <td>1.0</td>\n",
       "      <td>1.0</td>\n",
       "      <td>1.0</td>\n",
       "      <td>1.0</td>\n",
       "      <td>1.0</td>\n",
       "      <td>1.0</td>\n",
       "      <td>1.0</td>\n",
       "      <td>1.0</td>\n",
       "      <td>1.0</td>\n",
       "      <td>2.0</td>\n",
       "    </tr>\n",
       "  </tbody>\n",
       "</table>\n",
       "<p>5 rows × 10001 columns</p>\n",
       "</div>"
      ],
      "text/plain": [
       "      pix-1  pix-2  pix-3  pix-4  pix-5  pix-6  pix-7  pix-8  pix-9  pix-10  \\\n",
       "1146    1.0    1.0    1.0    1.0    1.0    1.0    1.0    1.0    1.0     1.0   \n",
       "1147    1.0    1.0    1.0    1.0    1.0    1.0    1.0    1.0    1.0     1.0   \n",
       "1148    1.0    1.0    1.0    1.0    1.0    1.0    1.0    1.0    1.0     1.0   \n",
       "1149    1.0    1.0    1.0    1.0    1.0    1.0    1.0    1.0    1.0     1.0   \n",
       "1150    1.0    1.0    1.0    1.0    1.0    1.0    1.0    1.0    1.0     1.0   \n",
       "\n",
       "      ...  pix-9992  pix-9993  pix-9994  pix-9995  pix-9996  pix-9997  \\\n",
       "1146  ...       1.0       1.0       1.0       1.0       1.0       1.0   \n",
       "1147  ...       1.0       1.0       1.0       1.0       1.0       1.0   \n",
       "1148  ...       1.0       1.0       1.0       1.0       1.0       1.0   \n",
       "1149  ...       1.0       1.0       1.0       1.0       1.0       1.0   \n",
       "1150  ...       1.0       1.0       1.0       1.0       1.0       1.0   \n",
       "\n",
       "      pix-9998  pix-9999  pix-10000  class  \n",
       "1146       1.0       1.0        1.0    2.0  \n",
       "1147       1.0       1.0        1.0    2.0  \n",
       "1148       1.0       1.0        1.0    2.0  \n",
       "1149       1.0       1.0        1.0    2.0  \n",
       "1150       1.0       1.0        1.0    2.0  \n",
       "\n",
       "[5 rows x 10001 columns]"
      ]
     },
     "execution_count": 6,
     "metadata": {},
     "output_type": "execute_result"
    }
   ],
   "source": [
    "df.tail()"
   ]
  },
  {
   "cell_type": "code",
   "execution_count": 7,
   "metadata": {},
   "outputs": [
    {
     "data": {
      "text/plain": [
       "4.0    301\n",
       "0.0    301\n",
       "1.0    299\n",
       "2.0    250\n",
       "Name: class, dtype: int64"
      ]
     },
     "execution_count": 7,
     "metadata": {},
     "output_type": "execute_result"
    }
   ],
   "source": [
    "df['class'].value_counts()"
   ]
  },
  {
   "cell_type": "code",
   "execution_count": 8,
   "metadata": {},
   "outputs": [
    {
     "data": {
      "text/html": [
       "<div>\n",
       "<style scoped>\n",
       "    .dataframe tbody tr th:only-of-type {\n",
       "        vertical-align: middle;\n",
       "    }\n",
       "\n",
       "    .dataframe tbody tr th {\n",
       "        vertical-align: top;\n",
       "    }\n",
       "\n",
       "    .dataframe thead th {\n",
       "        text-align: right;\n",
       "    }\n",
       "</style>\n",
       "<table border=\"1\" class=\"dataframe\">\n",
       "  <thead>\n",
       "    <tr style=\"text-align: right;\">\n",
       "      <th></th>\n",
       "      <th>pix-1</th>\n",
       "      <th>pix-2</th>\n",
       "      <th>pix-3</th>\n",
       "      <th>pix-4</th>\n",
       "      <th>pix-5</th>\n",
       "      <th>pix-6</th>\n",
       "      <th>pix-7</th>\n",
       "      <th>pix-8</th>\n",
       "      <th>pix-9</th>\n",
       "      <th>pix-10</th>\n",
       "      <th>...</th>\n",
       "      <th>pix-9992</th>\n",
       "      <th>pix-9993</th>\n",
       "      <th>pix-9994</th>\n",
       "      <th>pix-9995</th>\n",
       "      <th>pix-9996</th>\n",
       "      <th>pix-9997</th>\n",
       "      <th>pix-9998</th>\n",
       "      <th>pix-9999</th>\n",
       "      <th>pix-10000</th>\n",
       "      <th>class</th>\n",
       "    </tr>\n",
       "  </thead>\n",
       "  <tbody>\n",
       "    <tr>\n",
       "      <th>count</th>\n",
       "      <td>1151.0</td>\n",
       "      <td>1151.0</td>\n",
       "      <td>1151.0</td>\n",
       "      <td>1151.0</td>\n",
       "      <td>1151.0</td>\n",
       "      <td>1151.0</td>\n",
       "      <td>1151.0</td>\n",
       "      <td>1151.0</td>\n",
       "      <td>1151.0</td>\n",
       "      <td>1151.0</td>\n",
       "      <td>...</td>\n",
       "      <td>1151.000000</td>\n",
       "      <td>1151.000000</td>\n",
       "      <td>1151.000000</td>\n",
       "      <td>1151.000000</td>\n",
       "      <td>1151.000000</td>\n",
       "      <td>1151.000000</td>\n",
       "      <td>1151.000000</td>\n",
       "      <td>1151.000000</td>\n",
       "      <td>1151.000000</td>\n",
       "      <td>1151.000000</td>\n",
       "    </tr>\n",
       "    <tr>\n",
       "      <th>mean</th>\n",
       "      <td>1.0</td>\n",
       "      <td>1.0</td>\n",
       "      <td>1.0</td>\n",
       "      <td>1.0</td>\n",
       "      <td>1.0</td>\n",
       "      <td>1.0</td>\n",
       "      <td>1.0</td>\n",
       "      <td>1.0</td>\n",
       "      <td>1.0</td>\n",
       "      <td>1.0</td>\n",
       "      <td>...</td>\n",
       "      <td>0.999131</td>\n",
       "      <td>0.999131</td>\n",
       "      <td>0.999131</td>\n",
       "      <td>0.999131</td>\n",
       "      <td>0.999131</td>\n",
       "      <td>0.999131</td>\n",
       "      <td>0.999131</td>\n",
       "      <td>0.999131</td>\n",
       "      <td>0.999131</td>\n",
       "      <td>1.740226</td>\n",
       "    </tr>\n",
       "    <tr>\n",
       "      <th>std</th>\n",
       "      <td>0.0</td>\n",
       "      <td>0.0</td>\n",
       "      <td>0.0</td>\n",
       "      <td>0.0</td>\n",
       "      <td>0.0</td>\n",
       "      <td>0.0</td>\n",
       "      <td>0.0</td>\n",
       "      <td>0.0</td>\n",
       "      <td>0.0</td>\n",
       "      <td>0.0</td>\n",
       "      <td>...</td>\n",
       "      <td>0.029476</td>\n",
       "      <td>0.029476</td>\n",
       "      <td>0.029476</td>\n",
       "      <td>0.029476</td>\n",
       "      <td>0.029476</td>\n",
       "      <td>0.029476</td>\n",
       "      <td>0.029476</td>\n",
       "      <td>0.029476</td>\n",
       "      <td>0.029476</td>\n",
       "      <td>1.512075</td>\n",
       "    </tr>\n",
       "    <tr>\n",
       "      <th>min</th>\n",
       "      <td>1.0</td>\n",
       "      <td>1.0</td>\n",
       "      <td>1.0</td>\n",
       "      <td>1.0</td>\n",
       "      <td>1.0</td>\n",
       "      <td>1.0</td>\n",
       "      <td>1.0</td>\n",
       "      <td>1.0</td>\n",
       "      <td>1.0</td>\n",
       "      <td>1.0</td>\n",
       "      <td>...</td>\n",
       "      <td>0.000000</td>\n",
       "      <td>0.000000</td>\n",
       "      <td>0.000000</td>\n",
       "      <td>0.000000</td>\n",
       "      <td>0.000000</td>\n",
       "      <td>0.000000</td>\n",
       "      <td>0.000000</td>\n",
       "      <td>0.000000</td>\n",
       "      <td>0.000000</td>\n",
       "      <td>0.000000</td>\n",
       "    </tr>\n",
       "    <tr>\n",
       "      <th>25%</th>\n",
       "      <td>1.0</td>\n",
       "      <td>1.0</td>\n",
       "      <td>1.0</td>\n",
       "      <td>1.0</td>\n",
       "      <td>1.0</td>\n",
       "      <td>1.0</td>\n",
       "      <td>1.0</td>\n",
       "      <td>1.0</td>\n",
       "      <td>1.0</td>\n",
       "      <td>1.0</td>\n",
       "      <td>...</td>\n",
       "      <td>1.000000</td>\n",
       "      <td>1.000000</td>\n",
       "      <td>1.000000</td>\n",
       "      <td>1.000000</td>\n",
       "      <td>1.000000</td>\n",
       "      <td>1.000000</td>\n",
       "      <td>1.000000</td>\n",
       "      <td>1.000000</td>\n",
       "      <td>1.000000</td>\n",
       "      <td>0.000000</td>\n",
       "    </tr>\n",
       "    <tr>\n",
       "      <th>50%</th>\n",
       "      <td>1.0</td>\n",
       "      <td>1.0</td>\n",
       "      <td>1.0</td>\n",
       "      <td>1.0</td>\n",
       "      <td>1.0</td>\n",
       "      <td>1.0</td>\n",
       "      <td>1.0</td>\n",
       "      <td>1.0</td>\n",
       "      <td>1.0</td>\n",
       "      <td>1.0</td>\n",
       "      <td>...</td>\n",
       "      <td>1.000000</td>\n",
       "      <td>1.000000</td>\n",
       "      <td>1.000000</td>\n",
       "      <td>1.000000</td>\n",
       "      <td>1.000000</td>\n",
       "      <td>1.000000</td>\n",
       "      <td>1.000000</td>\n",
       "      <td>1.000000</td>\n",
       "      <td>1.000000</td>\n",
       "      <td>1.000000</td>\n",
       "    </tr>\n",
       "    <tr>\n",
       "      <th>75%</th>\n",
       "      <td>1.0</td>\n",
       "      <td>1.0</td>\n",
       "      <td>1.0</td>\n",
       "      <td>1.0</td>\n",
       "      <td>1.0</td>\n",
       "      <td>1.0</td>\n",
       "      <td>1.0</td>\n",
       "      <td>1.0</td>\n",
       "      <td>1.0</td>\n",
       "      <td>1.0</td>\n",
       "      <td>...</td>\n",
       "      <td>1.000000</td>\n",
       "      <td>1.000000</td>\n",
       "      <td>1.000000</td>\n",
       "      <td>1.000000</td>\n",
       "      <td>1.000000</td>\n",
       "      <td>1.000000</td>\n",
       "      <td>1.000000</td>\n",
       "      <td>1.000000</td>\n",
       "      <td>1.000000</td>\n",
       "      <td>4.000000</td>\n",
       "    </tr>\n",
       "    <tr>\n",
       "      <th>max</th>\n",
       "      <td>1.0</td>\n",
       "      <td>1.0</td>\n",
       "      <td>1.0</td>\n",
       "      <td>1.0</td>\n",
       "      <td>1.0</td>\n",
       "      <td>1.0</td>\n",
       "      <td>1.0</td>\n",
       "      <td>1.0</td>\n",
       "      <td>1.0</td>\n",
       "      <td>1.0</td>\n",
       "      <td>...</td>\n",
       "      <td>1.000000</td>\n",
       "      <td>1.000000</td>\n",
       "      <td>1.000000</td>\n",
       "      <td>1.000000</td>\n",
       "      <td>1.000000</td>\n",
       "      <td>1.000000</td>\n",
       "      <td>1.000000</td>\n",
       "      <td>1.000000</td>\n",
       "      <td>1.000000</td>\n",
       "      <td>4.000000</td>\n",
       "    </tr>\n",
       "  </tbody>\n",
       "</table>\n",
       "<p>8 rows × 10001 columns</p>\n",
       "</div>"
      ],
      "text/plain": [
       "        pix-1   pix-2   pix-3   pix-4   pix-5   pix-6   pix-7   pix-8   pix-9  \\\n",
       "count  1151.0  1151.0  1151.0  1151.0  1151.0  1151.0  1151.0  1151.0  1151.0   \n",
       "mean      1.0     1.0     1.0     1.0     1.0     1.0     1.0     1.0     1.0   \n",
       "std       0.0     0.0     0.0     0.0     0.0     0.0     0.0     0.0     0.0   \n",
       "min       1.0     1.0     1.0     1.0     1.0     1.0     1.0     1.0     1.0   \n",
       "25%       1.0     1.0     1.0     1.0     1.0     1.0     1.0     1.0     1.0   \n",
       "50%       1.0     1.0     1.0     1.0     1.0     1.0     1.0     1.0     1.0   \n",
       "75%       1.0     1.0     1.0     1.0     1.0     1.0     1.0     1.0     1.0   \n",
       "max       1.0     1.0     1.0     1.0     1.0     1.0     1.0     1.0     1.0   \n",
       "\n",
       "       pix-10  ...     pix-9992     pix-9993     pix-9994     pix-9995  \\\n",
       "count  1151.0  ...  1151.000000  1151.000000  1151.000000  1151.000000   \n",
       "mean      1.0  ...     0.999131     0.999131     0.999131     0.999131   \n",
       "std       0.0  ...     0.029476     0.029476     0.029476     0.029476   \n",
       "min       1.0  ...     0.000000     0.000000     0.000000     0.000000   \n",
       "25%       1.0  ...     1.000000     1.000000     1.000000     1.000000   \n",
       "50%       1.0  ...     1.000000     1.000000     1.000000     1.000000   \n",
       "75%       1.0  ...     1.000000     1.000000     1.000000     1.000000   \n",
       "max       1.0  ...     1.000000     1.000000     1.000000     1.000000   \n",
       "\n",
       "          pix-9996     pix-9997     pix-9998     pix-9999    pix-10000  \\\n",
       "count  1151.000000  1151.000000  1151.000000  1151.000000  1151.000000   \n",
       "mean      0.999131     0.999131     0.999131     0.999131     0.999131   \n",
       "std       0.029476     0.029476     0.029476     0.029476     0.029476   \n",
       "min       0.000000     0.000000     0.000000     0.000000     0.000000   \n",
       "25%       1.000000     1.000000     1.000000     1.000000     1.000000   \n",
       "50%       1.000000     1.000000     1.000000     1.000000     1.000000   \n",
       "75%       1.000000     1.000000     1.000000     1.000000     1.000000   \n",
       "max       1.000000     1.000000     1.000000     1.000000     1.000000   \n",
       "\n",
       "             class  \n",
       "count  1151.000000  \n",
       "mean      1.740226  \n",
       "std       1.512075  \n",
       "min       0.000000  \n",
       "25%       0.000000  \n",
       "50%       1.000000  \n",
       "75%       4.000000  \n",
       "max       4.000000  \n",
       "\n",
       "[8 rows x 10001 columns]"
      ]
     },
     "execution_count": 8,
     "metadata": {},
     "output_type": "execute_result"
    }
   ],
   "source": [
    "df.describe()"
   ]
  },
  {
   "cell_type": "code",
   "execution_count": 9,
   "metadata": {},
   "outputs": [
    {
     "data": {
      "image/png": "[encoded data removed]",
      "text/plain": [
       "<Figure size 432x288 with 1 Axes>"
      ]
     },
     "metadata": {
      "needs_background": "light"
     },
     "output_type": "display_data"
    }
   ],
   "source": [
    "plt.imshow(df.iloc[1,:-1].values.reshape(100,100),cmap='gray')\n",
    "plt.title(\"label {}\".format(df.iloc[1,-1]))\n",
    "plt.show()"
   ]
  },
  {
   "cell_type": "code",
   "execution_count": 10,
   "metadata": {},
   "outputs": [
    {
     "data": {
      "image/png": "[encoded data removed]",
      "text/plain": [
       "<Figure size 720x720 with 9 Axes>"
      ]
     },
     "metadata": {
      "needs_background": "light"
     },
     "output_type": "display_data"
    }
   ],
   "source": [
    "fig = plt.figure(figsize=(10,10))\n",
    "for i in range(1,10):\n",
    "    x = np.random.randint(1000)\n",
    "    fig.add_subplot(3,3,i)\n",
    "    plt.imshow(df.iloc[x,:-1].values.reshape(100,100),cmap='gray')\n",
    "    plt.axis('off')\n"
   ]
  },
  {
   "cell_type": "code",
   "execution_count": 11,
   "metadata": {},
   "outputs": [],
   "source": [
    "from sklearn.model_selection import train_test_split\n",
    "xtrain,xtest,ytrain,ytest = train_test_split(df.iloc[:,:-1].values,df.iloc[:,-1].values,test_size = 0.2,random_state=20)"
   ]
  },
  {
   "cell_type": "code",
   "execution_count": 12,
   "metadata": {},
   "outputs": [
    {
     "data": {
      "text/plain": [
       "array([[1., 1., 1., ..., 1., 1., 1.],\n",
       "       [1., 1., 1., ..., 1., 1., 1.],\n",
       "       [1., 1., 1., ..., 1., 1., 1.],\n",
       "       ...,\n",
       "       [1., 1., 1., ..., 1., 1., 1.],\n",
       "       [1., 1., 1., ..., 1., 1., 1.],\n",
       "       [1., 1., 1., ..., 1., 1., 1.]])"
      ]
     },
     "execution_count": 12,
     "metadata": {},
     "output_type": "execute_result"
    }
   ],
   "source": [
    "xtrain[:10]"
   ]
  },
  {
   "cell_type": "code",
   "execution_count": 13,
   "metadata": {},
   "outputs": [
    {
     "data": {
      "text/plain": [
       "array([[1., 1., 1., ..., 1., 1., 1.],\n",
       "       [1., 1., 1., ..., 1., 1., 1.],\n",
       "       [1., 1., 1., ..., 1., 1., 1.],\n",
       "       ...,\n",
       "       [1., 1., 1., ..., 1., 1., 1.],\n",
       "       [1., 1., 1., ..., 1., 1., 1.],\n",
       "       [1., 1., 1., ..., 1., 1., 1.]])"
      ]
     },
     "execution_count": 13,
     "metadata": {},
     "output_type": "execute_result"
    }
   ],
   "source": [
    "xtest[:10]"
   ]
  },
  {
   "cell_type": "code",
   "execution_count": 14,
   "metadata": {},
   "outputs": [
    {
     "data": {
      "text/plain": [
       "array([2., 4., 2., 0., 1., 4., 4., 4., 2., 0.])"
      ]
     },
     "execution_count": 14,
     "metadata": {},
     "output_type": "execute_result"
    }
   ],
   "source": [
    "ytrain[:10]"
   ]
  },
  {
   "cell_type": "code",
   "execution_count": 15,
   "metadata": {},
   "outputs": [
    {
     "data": {
      "text/plain": [
       "array([2., 2., 4., 4., 0., 4., 2., 2., 4., 4.])"
      ]
     },
     "execution_count": 15,
     "metadata": {},
     "output_type": "execute_result"
    }
   ],
   "source": [
    "ytest[:10]"
   ]
  },
  {
   "cell_type": "code",
   "execution_count": 16,
   "metadata": {},
   "outputs": [
    {
     "name": "stdout",
     "output_type": "stream",
     "text": [
      "xtrain shape (920, 10000)\n"
     ]
    }
   ],
   "source": [
    "print(\"xtrain shape\",xtrain.shape)"
   ]
  },
  {
   "cell_type": "code",
   "execution_count": 17,
   "metadata": {},
   "outputs": [
    {
     "name": "stdout",
     "output_type": "stream",
     "text": [
      "xtest shape (231, 10000)\n"
     ]
    }
   ],
   "source": [
    "print(\"xtest shape\",xtest.shape)"
   ]
  },
  {
   "cell_type": "code",
   "execution_count": 18,
   "metadata": {},
   "outputs": [
    {
     "name": "stdout",
     "output_type": "stream",
     "text": [
      "ytrain shape (920,)\n",
      "ytest shape (231,)\n"
     ]
    }
   ],
   "source": [
    "print(\"ytrain shape\",ytrain.shape)\n",
    "print(\"ytest shape\",ytest.shape)"
   ]
  },
  {
   "cell_type": "markdown",
   "metadata": {},
   "source": [
    "### Implementing K nearest neighbors "
   ]
  },
  {
   "cell_type": "code",
   "execution_count": 34,
   "metadata": {},
   "outputs": [
    {
     "data": {
      "text/plain": [
       "{1: 0.9956709956709957,\n",
       " 2: 0.9913419913419913,\n",
       " 3: 0.987012987012987,\n",
       " 4: 0.987012987012987,\n",
       " 5: 0.987012987012987,\n",
       " 6: 0.987012987012987,\n",
       " 7: 0.9826839826839827,\n",
       " 8: 0.9826839826839827,\n",
       " 9: 0.9783549783549783,\n",
       " 10: 0.9783549783549783,\n",
       " 11: 0.9653679653679653,\n",
       " 12: 0.9653679653679653,\n",
       " 13: 0.9653679653679653,\n",
       " 14: 0.9696969696969697,\n",
       " 15: 0.9696969696969697,\n",
       " 16: 0.9696969696969697,\n",
       " 17: 0.9653679653679653,\n",
       " 18: 0.9653679653679653,\n",
       " 19: 0.961038961038961,\n",
       " 20: 0.9567099567099567,\n",
       " 21: 0.9523809523809523,\n",
       " 22: 0.948051948051948,\n",
       " 23: 0.9523809523809523,\n",
       " 24: 0.9523809523809523,\n",
       " 25: 0.948051948051948}"
      ]
     },
     "execution_count": 34,
     "metadata": {},
     "output_type": "execute_result"
    }
   ],
   "source": [
    "from sklearn.neighbors import KNeighborsClassifier\n",
    "from sklearn import metrics\n",
    "krange  = range(1,26)\n",
    "scores = {}\n",
    "scores_list = []\n",
    "for k in krange:\n",
    "    knn = KNeighborsClassifier(n_neighbors = k)\n",
    "    knn.fit(xtrain,ytrain)\n",
    "    ypred = knn.predict(xtest)\n",
    "    scores[k] = metrics.accuracy_score(ytest,ypred)\n",
    "    scores_list.append(metrics.accuracy_score(ytest,ypred))\n",
    "scores"
   ]
  },
  {
   "cell_type": "code",
   "execution_count": 36,
   "metadata": {},
   "outputs": [
    {
     "data": {
      "text/plain": [
       "[0.9956709956709957,\n",
       " 0.9913419913419913,\n",
       " 0.987012987012987,\n",
       " 0.987012987012987,\n",
       " 0.987012987012987,\n",
       " 0.987012987012987,\n",
       " 0.9826839826839827,\n",
       " 0.9826839826839827,\n",
       " 0.9783549783549783,\n",
       " 0.9783549783549783,\n",
       " 0.9653679653679653,\n",
       " 0.9653679653679653,\n",
       " 0.9653679653679653,\n",
       " 0.9696969696969697,\n",
       " 0.9696969696969697,\n",
       " 0.9696969696969697,\n",
       " 0.9653679653679653,\n",
       " 0.9653679653679653,\n",
       " 0.961038961038961,\n",
       " 0.9567099567099567,\n",
       " 0.9523809523809523,\n",
       " 0.948051948051948,\n",
       " 0.9523809523809523,\n",
       " 0.9523809523809523,\n",
       " 0.948051948051948]"
      ]
     },
     "execution_count": 36,
     "metadata": {},
     "output_type": "execute_result"
    }
   ],
   "source": [
    "scores_list"
   ]
  },
  {
   "cell_type": "markdown",
   "metadata": {},
   "source": [
    "### Sorting based on the Scores_list"
   ]
  },
  {
   "cell_type": "code",
   "execution_count": 41,
   "metadata": {
    "scrolled": true
   },
   "outputs": [
    {
     "name": "stdout",
     "output_type": "stream",
     "text": [
      "{1: 0.9956709956709957, 2: 0.9913419913419913, 6: 0.987012987012987, 5: 0.987012987012987, 4: 0.987012987012987, 3: 0.987012987012987, 8: 0.9826839826839827, 7: 0.9826839826839827, 10: 0.9783549783549783, 9: 0.9783549783549783, 16: 0.9696969696969697, 15: 0.9696969696969697, 14: 0.9696969696969697, 18: 0.9653679653679653, 17: 0.9653679653679653, 13: 0.9653679653679653, 12: 0.9653679653679653, 11: 0.9653679653679653, 19: 0.961038961038961, 20: 0.9567099567099567, 24: 0.9523809523809523, 23: 0.9523809523809523, 21: 0.9523809523809523, 25: 0.948051948051948, 22: 0.948051948051948}\n"
     ]
    }
   ],
   "source": [
    "scores = { k:v for k,v in sorted(scores.items(),key = lambda x:x[1],reverse = True)}\n",
    "print(scores)"
   ]
  },
  {
   "cell_type": "markdown",
   "metadata": {},
   "source": [
    "##### we can observe that for k == 1 we got high accuracy"
   ]
  },
  {
   "cell_type": "markdown",
   "metadata": {},
   "source": [
    "### Implementing Support Vector Machine"
   ]
  },
  {
   "cell_type": "code",
   "execution_count": 19,
   "metadata": {},
   "outputs": [],
   "source": [
    "from sklearn.svm import SVC\n",
    "from sklearn.metrics import accuracy_score"
   ]
  },
  {
   "cell_type": "code",
   "execution_count": 20,
   "metadata": {},
   "outputs": [],
   "source": [
    "svm_linear = SVC(kernel = \"linear\",C=1,gamma = 0.0001).fit(xtrain,ytrain)"
   ]
  },
  {
   "cell_type": "code",
   "execution_count": 21,
   "metadata": {},
   "outputs": [],
   "source": [
    "svm_lin_pre = svm_linear.predict(xtest)"
   ]
  },
  {
   "cell_type": "code",
   "execution_count": 22,
   "metadata": {},
   "outputs": [
    {
     "name": "stdout",
     "output_type": "stream",
     "text": [
      "svm_linear score 99.56709956709958\n"
     ]
    }
   ],
   "source": [
    "print(\"svm_linear score\",accuracy_score(ytest,svm_lin_pre)*100)"
   ]
  },
  {
   "cell_type": "code",
   "execution_count": 23,
   "metadata": {},
   "outputs": [],
   "source": [
    "svm_poly = SVC(kernel = 'poly',C=1,gamma = 0.0001).fit(xtrain,ytrain)"
   ]
  },
  {
   "cell_type": "code",
   "execution_count": 24,
   "metadata": {},
   "outputs": [
    {
     "name": "stdout",
     "output_type": "stream",
     "text": [
      "svm_poly score 99.13419913419914\n"
     ]
    }
   ],
   "source": [
    "svm_pol_pre = svm_poly.predict(xtest)\n",
    "print(\"svm_poly score\",accuracy_score(ytest,svm_pol_pre)*100)"
   ]
  },
  {
   "cell_type": "code",
   "execution_count": 25,
   "metadata": {},
   "outputs": [],
   "source": [
    "svm_rbf = SVC(kernel = 'rbf',C=1,gamma = 0.0001).fit(xtrain,ytrain)"
   ]
  },
  {
   "cell_type": "code",
   "execution_count": 26,
   "metadata": {},
   "outputs": [
    {
     "name": "stdout",
     "output_type": "stream",
     "text": [
      "svm_poly score 99.13419913419914\n"
     ]
    }
   ],
   "source": [
    "svm_rbf_pre = svm_rbf.predict(xtest)\n",
    "print(\"svm_poly score\",accuracy_score(ytest,svm_rbf_pre)*100)"
   ]
  },
  {
   "cell_type": "code",
   "execution_count": 50,
   "metadata": {},
   "outputs": [],
   "source": [
    "dict_tel_eng = {0.:'A',1.:'E',2.:'O',4.:'U'}"
   ]
  },
  {
   "cell_type": "markdown",
   "metadata": {},
   "source": [
    "### Testing our Model on External Image"
   ]
  },
  {
   "cell_type": "code",
   "execution_count": 55,
   "metadata": {},
   "outputs": [
    {
     "name": "stdout",
     "output_type": "stream",
     "text": [
      "predicted label [0.]\n",
      "predicted Corresponding English Lettter: A\n"
     ]
    },
    {
     "data": {
      "image/png": "[encoded data removed]",
      "text/plain": [
       "<Figure size 432x288 with 1 Axes>"
      ]
     },
     "metadata": {
      "needs_background": "light"
     },
     "output_type": "display_data"
    }
   ],
   "source": [
    "new_X = cv2.imread(\"test1.png\")\n",
    "new_X = cv2.cvtColor(new_X, cv2.COLOR_BGR2GRAY)\n",
    "img =cv2.resize(new_X, ( 100, 100), interpolation=cv2.INTER_AREA)\n",
    "img = img/255.0\n",
    "plt.imshow(img,cmap = \"gray\")\n",
    "img = img.ravel()\n",
    "new_y = svm_linear.predict([img])\n",
    "print(\"predicted label\",new_y)\n",
    "print(\"predicted Corresponding English Lettter:\",dict_tel_eng[new_y[0]])"
   ]
  },
  {
   "cell_type": "code",
   "execution_count": null,
   "metadata": {},
   "outputs": [],
   "source": []
  },
  {
   "cell_type": "code",
   "execution_count": null,
   "metadata": {},
   "outputs": [],
   "source": []
  },
  {
   "cell_type": "code",
   "execution_count": null,
   "metadata": {},
   "outputs": [],
   "source": []
  },
  {
   "cell_type": "code",
   "execution_count": null,
   "metadata": {},
   "outputs": [],
   "source": []
  }
 ],
 "metadata": {
  "kernelspec": {
   "display_name": "Python 3",
   "language": "python",
   "name": "python3"
  },
  "language_info": {
   "codemirror_mode": {
    "name": "ipython",
    "version": 3
   },
   "file_extension": ".py",
   "mimetype": "text/x-python",
   "name": "python",
   "nbconvert_exporter": "python",
   "pygments_lexer": "ipython3",
   "version": "3.7.3"
  }
 },
 "nbformat": 4,
 "nbformat_minor": 2
}
